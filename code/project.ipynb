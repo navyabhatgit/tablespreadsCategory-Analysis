{
 "cells": [
  {
   "cell_type": "code",
   "execution_count": 1,
   "id": "30cd4c8a",
   "metadata": {},
   "outputs": [],
   "source": [
    "import pandas as pd\n",
    "import numpy as np\n",
    "import matplotlib.pyplot as plt\n",
    "%matplotlib inline\n",
    "import seaborn as sns"
   ]
  },
  {
   "cell_type": "code",
   "execution_count": 2,
   "id": "869abd82",
   "metadata": {},
   "outputs": [
    {
     "name": "stdout",
     "output_type": "stream",
     "text": [
      "Collecting kmodes\n",
      "  Using cached kmodes-0.12.2-py2.py3-none-any.whl (20 kB)\n",
      "Requirement already satisfied: joblib>=0.11 in c:\\users\\navya\\anaconda3\\lib\\site-packages (from kmodes) (1.1.1)\n",
      "Requirement already satisfied: scikit-learn>=0.22.0 in c:\\users\\navya\\anaconda3\\lib\\site-packages (from kmodes) (1.2.1)\n",
      "Requirement already satisfied: numpy>=1.10.4 in c:\\users\\navya\\anaconda3\\lib\\site-packages (from kmodes) (1.23.5)\n",
      "Requirement already satisfied: scipy>=0.13.3 in c:\\users\\navya\\anaconda3\\lib\\site-packages (from kmodes) (1.10.0)\n",
      "Requirement already satisfied: threadpoolctl>=2.0.0 in c:\\users\\navya\\anaconda3\\lib\\site-packages (from scikit-learn>=0.22.0->kmodes) (2.2.0)\n",
      "Installing collected packages: kmodes\n",
      "Successfully installed kmodes-0.12.2\n"
     ]
    }
   ],
   "source": [
    "!pip install kmodes"
   ]
  },
  {
   "cell_type": "code",
   "execution_count": 3,
   "id": "64331af6",
   "metadata": {},
   "outputs": [],
   "source": [
    "def describe_more(df,normalize_ind=False, weight_column=None, skip_columns=[], dropna=True):\n",
    "    var = [] ; l = [] ; t = []; unq =[]; min_l = []; max_l = [];\n",
    "    assert isinstance(skip_columns, list), \"Argument skip_columns should be list\"\n",
    "    if weight_column is not None:\n",
    "        if weight_column not in list(df.columns):\n",
    "            raise AssertionError('weight_column is not a valid column name in the input DataFrame')\n",
    "      \n",
    "    for x in df:\n",
    "        if x in skip_columns:\n",
    "            pass\n",
    "        else:\n",
    "            var.append( x )\n",
    "            uniq_counts = len(pd.value_counts(df[x],dropna=dropna))\n",
    "            uniq_counts = len(pd.value_counts(df[x], dropna=dropna)[pd.value_counts(df[x],dropna=dropna)>0])\n",
    "            l.append(uniq_counts)\n",
    "            t.append( df[ x ].dtypes )\n",
    "            min_l.append(df[x].apply(str).str.len().min())\n",
    "            max_l.append(df[x].apply(str).str.len().max())\n",
    "            if weight_column is not None and x not in skip_columns:\n",
    "                df2 = df.groupby(x).agg({weight_column: 'sum'}).sort_values(weight_column, ascending=False)\n",
    "                df2['authtrans_vts_cnt']=((df2[weight_column])/df2[weight_column].sum()).round(2)\n",
    "                unq.append(df2.head(n=100).to_dict()[weight_column])\n",
    "            else:\n",
    "                df_cat_d = df[x].value_counts(normalize=normalize_ind,dropna=dropna).round(decimals=2)\n",
    "                df_cat_d = df_cat_d[df_cat_d>0]\n",
    "                #unq.append(df[x].value_counts().iloc[0:100].to_dict())\n",
    "                unq.append(df_cat_d.iloc[0:100].to_dict())\n",
    "            \n",
    "    levels = pd.DataFrame( { 'A_Variable' : var , 'Levels' : l , 'Datatype' : t ,\n",
    "                             'Min Length' : min_l,\n",
    "                             'Max Length': max_l,\n",
    "                             'Level_Values' : unq} )\n",
    "    #levels.sort_values( by = 'Levels' , inplace = True )\n",
    "    return levels"
   ]
  },
  {
   "cell_type": "code",
   "execution_count": 4,
   "id": "6b5a8cbb",
   "metadata": {},
   "outputs": [],
   "source": [
    "data=pd.read_excel(\"Tablespreads2021_Updated.xlsx\")"
   ]
  },
  {
   "cell_type": "code",
   "execution_count": 5,
   "id": "e14adad5",
   "metadata": {},
   "outputs": [
    {
     "data": {
      "text/html": [
       "<div>\n",
       "<style scoped>\n",
       "    .dataframe tbody tr th:only-of-type {\n",
       "        vertical-align: middle;\n",
       "    }\n",
       "\n",
       "    .dataframe tbody tr th {\n",
       "        vertical-align: top;\n",
       "    }\n",
       "\n",
       "    .dataframe thead th {\n",
       "        text-align: right;\n",
       "    }\n",
       "</style>\n",
       "<table border=\"1\" class=\"dataframe\">\n",
       "  <thead>\n",
       "    <tr style=\"text-align: right;\">\n",
       "      <th></th>\n",
       "      <th>A_Variable</th>\n",
       "      <th>Levels</th>\n",
       "      <th>Datatype</th>\n",
       "      <th>Min Length</th>\n",
       "      <th>Max Length</th>\n",
       "      <th>Level_Values</th>\n",
       "    </tr>\n",
       "  </thead>\n",
       "  <tbody>\n",
       "    <tr>\n",
       "      <th>0</th>\n",
       "      <td>Geography</td>\n",
       "      <td>9</td>\n",
       "      <td>object</td>\n",
       "      <td>30</td>\n",
       "      <td>50</td>\n",
       "      <td>{'Total US - Multi Outlet + Conv': 60644, 'Nor...</td>\n",
       "    </tr>\n",
       "    <tr>\n",
       "      <th>1</th>\n",
       "      <td>Time</td>\n",
       "      <td>52</td>\n",
       "      <td>object</td>\n",
       "      <td>20</td>\n",
       "      <td>20</td>\n",
       "      <td>{'Week Ending 04-04-21': 5067, 'Week Ending 03...</td>\n",
       "    </tr>\n",
       "    <tr>\n",
       "      <th>2</th>\n",
       "      <td>Product Description</td>\n",
       "      <td>1378</td>\n",
       "      <td>object</td>\n",
       "      <td>41</td>\n",
       "      <td>113</td>\n",
       "      <td>{'COUNTRY CROCK RFG ORIGINAL VEGETABLE OIL SPR...</td>\n",
       "    </tr>\n",
       "    <tr>\n",
       "      <th>3</th>\n",
       "      <td>UPC 13 digit</td>\n",
       "      <td>1378</td>\n",
       "      <td>int64</td>\n",
       "      <td>7</td>\n",
       "      <td>13</td>\n",
       "      <td>{27400545081: 468, 742365416001: 468, 40600341...</td>\n",
       "    </tr>\n",
       "    <tr>\n",
       "      <th>4</th>\n",
       "      <td>Dollar Sales No Merch</td>\n",
       "      <td>225885</td>\n",
       "      <td>float64</td>\n",
       "      <td>3</td>\n",
       "      <td>20</td>\n",
       "      <td>{3.99: 159, 3.79: 73, 2.99: 72, 6.99: 55, 6.98...</td>\n",
       "    </tr>\n",
       "    <tr>\n",
       "      <th>5</th>\n",
       "      <td>Dollar Sales Any Merch</td>\n",
       "      <td>141711</td>\n",
       "      <td>float64</td>\n",
       "      <td>3</td>\n",
       "      <td>20</td>\n",
       "      <td>{2.84: 36, 2.98: 26, 5.68: 24, 3.0: 23, 8.52: ...</td>\n",
       "    </tr>\n",
       "    <tr>\n",
       "      <th>6</th>\n",
       "      <td>Unit Sales No Merch</td>\n",
       "      <td>210891</td>\n",
       "      <td>float64</td>\n",
       "      <td>3</td>\n",
       "      <td>20</td>\n",
       "      <td>{1.0: 2242, 2.0: 1020, 3.0: 657, 4.0: 454, 5.0...</td>\n",
       "    </tr>\n",
       "    <tr>\n",
       "      <th>7</th>\n",
       "      <td>Unit Sales Any Merch</td>\n",
       "      <td>131698</td>\n",
       "      <td>float64</td>\n",
       "      <td>3</td>\n",
       "      <td>20</td>\n",
       "      <td>{1.0: 712, 2.0: 701, 3.0: 580, 4.0: 511, 5.0: ...</td>\n",
       "    </tr>\n",
       "    <tr>\n",
       "      <th>8</th>\n",
       "      <td>Volume Sales No Merch</td>\n",
       "      <td>216804</td>\n",
       "      <td>float64</td>\n",
       "      <td>3</td>\n",
       "      <td>21</td>\n",
       "      <td>{1.0: 847, 2.0: 429, 0.9375: 421, 0.5: 419, 3....</td>\n",
       "    </tr>\n",
       "    <tr>\n",
       "      <th>9</th>\n",
       "      <td>Volume Sales Any Merch</td>\n",
       "      <td>134363</td>\n",
       "      <td>float64</td>\n",
       "      <td>3</td>\n",
       "      <td>21</td>\n",
       "      <td>{1.0: 378, 2.0: 337, 3.0: 280, 4.0: 240, 5.0: ...</td>\n",
       "    </tr>\n",
       "    <tr>\n",
       "      <th>10</th>\n",
       "      <td>Price per Unit</td>\n",
       "      <td>197371</td>\n",
       "      <td>float64</td>\n",
       "      <td>3</td>\n",
       "      <td>19</td>\n",
       "      <td>{3.99: 3822, 2.99: 3745, 4.99: 2798, 5.99: 193...</td>\n",
       "    </tr>\n",
       "    <tr>\n",
       "      <th>11</th>\n",
       "      <td>Price per Unit No Merch</td>\n",
       "      <td>186442</td>\n",
       "      <td>float64</td>\n",
       "      <td>3</td>\n",
       "      <td>19</td>\n",
       "      <td>{3.99: 4234, 2.99: 3862, 4.99: 3077, 5.99: 214...</td>\n",
       "    </tr>\n",
       "    <tr>\n",
       "      <th>12</th>\n",
       "      <td>Price per Unit Any Merch</td>\n",
       "      <td>121624</td>\n",
       "      <td>float64</td>\n",
       "      <td>3</td>\n",
       "      <td>19</td>\n",
       "      <td>{2.99: 2216, 3.99: 1620, 4.99: 946, 3.49: 851,...</td>\n",
       "    </tr>\n",
       "    <tr>\n",
       "      <th>13</th>\n",
       "      <td>Price per Volume</td>\n",
       "      <td>199565</td>\n",
       "      <td>float64</td>\n",
       "      <td>3</td>\n",
       "      <td>20</td>\n",
       "      <td>{4.99: 1273, 3.99: 1237, 7.98: 1229, 2.99: 119...</td>\n",
       "    </tr>\n",
       "    <tr>\n",
       "      <th>14</th>\n",
       "      <td>Price per Volume No Merch</td>\n",
       "      <td>188635</td>\n",
       "      <td>float64</td>\n",
       "      <td>3</td>\n",
       "      <td>20</td>\n",
       "      <td>{4.99: 1375, 7.98: 1344, 3.99: 1339, 5.99: 117...</td>\n",
       "    </tr>\n",
       "    <tr>\n",
       "      <th>15</th>\n",
       "      <td>Price per Volume Any Merch</td>\n",
       "      <td>124526</td>\n",
       "      <td>float64</td>\n",
       "      <td>3</td>\n",
       "      <td>19</td>\n",
       "      <td>{2.99: 998, 3.99: 609, 4.99: 480, 2.5: 403, 5....</td>\n",
       "    </tr>\n",
       "    <tr>\n",
       "      <th>16</th>\n",
       "      <td>ACV Weighted Distribution No Merch</td>\n",
       "      <td>235533</td>\n",
       "      <td>float64</td>\n",
       "      <td>3</td>\n",
       "      <td>22</td>\n",
       "      <td>{0.11982502594529354: 35, 0.12177853596474593:...</td>\n",
       "    </tr>\n",
       "    <tr>\n",
       "      <th>17</th>\n",
       "      <td>ACV Weighted Distribution Any Merch</td>\n",
       "      <td>152148</td>\n",
       "      <td>float64</td>\n",
       "      <td>3</td>\n",
       "      <td>22</td>\n",
       "      <td>{0.4129481358150694: 13, 0.4125175093777117: 1...</td>\n",
       "    </tr>\n",
       "    <tr>\n",
       "      <th>18</th>\n",
       "      <td>Base Unit Sales</td>\n",
       "      <td>225016</td>\n",
       "      <td>float64</td>\n",
       "      <td>3</td>\n",
       "      <td>20</td>\n",
       "      <td>{1.0: 2166, 2.0: 997, 3.0: 604, 4.0: 434, 5.0:...</td>\n",
       "    </tr>\n",
       "    <tr>\n",
       "      <th>19</th>\n",
       "      <td>Base Volume Sales</td>\n",
       "      <td>229377</td>\n",
       "      <td>float64</td>\n",
       "      <td>3</td>\n",
       "      <td>21</td>\n",
       "      <td>{1.0: 826, 0.9375: 424, 2.0: 417, 0.5: 393, 3....</td>\n",
       "    </tr>\n",
       "    <tr>\n",
       "      <th>20</th>\n",
       "      <td>Base Dollar Sales</td>\n",
       "      <td>234798</td>\n",
       "      <td>float64</td>\n",
       "      <td>3</td>\n",
       "      <td>20</td>\n",
       "      <td>{3.99: 155, 3.79: 73, 2.99: 72, 4.99: 55, 6.98...</td>\n",
       "    </tr>\n",
       "    <tr>\n",
       "      <th>21</th>\n",
       "      <td>Incremental Units</td>\n",
       "      <td>127084</td>\n",
       "      <td>float64</td>\n",
       "      <td>3</td>\n",
       "      <td>20</td>\n",
       "      <td>{0.0: 15696, 0.5: 34, 0.5099999904632568: 31, ...</td>\n",
       "    </tr>\n",
       "    <tr>\n",
       "      <th>22</th>\n",
       "      <td>Incremental Volume</td>\n",
       "      <td>129546</td>\n",
       "      <td>float64</td>\n",
       "      <td>3</td>\n",
       "      <td>21</td>\n",
       "      <td>{0.0: 15696, 0.009999990463256836: 19, 0.25: 1...</td>\n",
       "    </tr>\n",
       "    <tr>\n",
       "      <th>23</th>\n",
       "      <td>Incremental Dollars</td>\n",
       "      <td>130490</td>\n",
       "      <td>float64</td>\n",
       "      <td>3</td>\n",
       "      <td>23</td>\n",
       "      <td>{0.0: 15687, 1.4547000122070313: 4, 0.99619995...</td>\n",
       "    </tr>\n",
       "    <tr>\n",
       "      <th>24</th>\n",
       "      <td>CAG Major Brand Value</td>\n",
       "      <td>304</td>\n",
       "      <td>object</td>\n",
       "      <td>4</td>\n",
       "      <td>30</td>\n",
       "      <td>{'PRIVATE LABEL': 80570, 'LAND O LAKES': 17686...</td>\n",
       "    </tr>\n",
       "    <tr>\n",
       "      <th>25</th>\n",
       "      <td>CAG Manufacturer Value</td>\n",
       "      <td>260</td>\n",
       "      <td>object</td>\n",
       "      <td>5</td>\n",
       "      <td>35</td>\n",
       "      <td>{'PRIVATE LABEL': 80570, 'UPFIELD': 21965, 'CO...</td>\n",
       "    </tr>\n",
       "    <tr>\n",
       "      <th>26</th>\n",
       "      <td>Sub-Category</td>\n",
       "      <td>6</td>\n",
       "      <td>object</td>\n",
       "      <td>6</td>\n",
       "      <td>30</td>\n",
       "      <td>{'RFG BUTTER': 147717, 'MARGARINE/SPREADS': 87...</td>\n",
       "    </tr>\n",
       "    <tr>\n",
       "      <th>27</th>\n",
       "      <td>CAG Category</td>\n",
       "      <td>1</td>\n",
       "      <td>object</td>\n",
       "      <td>12</td>\n",
       "      <td>12</td>\n",
       "      <td>{'TABLESPREADS': 258978}</td>\n",
       "    </tr>\n",
       "    <tr>\n",
       "      <th>28</th>\n",
       "      <td>CAG Count</td>\n",
       "      <td>10</td>\n",
       "      <td>object</td>\n",
       "      <td>3</td>\n",
       "      <td>5</td>\n",
       "      <td>{'1 CT': 160976, '4 CT': 74346, '2 CT': 16980,...</td>\n",
       "    </tr>\n",
       "    <tr>\n",
       "      <th>29</th>\n",
       "      <td>CAG Ounces</td>\n",
       "      <td>69</td>\n",
       "      <td>object</td>\n",
       "      <td>4</td>\n",
       "      <td>8</td>\n",
       "      <td>{'16 OZ': 95457, '8 OZ': 54133, '15 OZ': 27786...</td>\n",
       "    </tr>\n",
       "    <tr>\n",
       "      <th>30</th>\n",
       "      <td>CAG Form</td>\n",
       "      <td>4</td>\n",
       "      <td>object</td>\n",
       "      <td>4</td>\n",
       "      <td>14</td>\n",
       "      <td>{'TUBS': 109873, 'STICKS': 95893, 'ALL OTHER F...</td>\n",
       "    </tr>\n",
       "    <tr>\n",
       "      <th>31</th>\n",
       "      <td>Form</td>\n",
       "      <td>21</td>\n",
       "      <td>object</td>\n",
       "      <td>3</td>\n",
       "      <td>21</td>\n",
       "      <td>{'SPREAD': 116152, 'STICK': 48348, 'QUARTER': ...</td>\n",
       "    </tr>\n",
       "    <tr>\n",
       "      <th>32</th>\n",
       "      <td>CAG Tier</td>\n",
       "      <td>5</td>\n",
       "      <td>object</td>\n",
       "      <td>3</td>\n",
       "      <td>13</td>\n",
       "      <td>{'MAINSTREAM': 101161, 'SUPER PREMIUM': 79405,...</td>\n",
       "    </tr>\n",
       "    <tr>\n",
       "      <th>33</th>\n",
       "      <td>Total_Sales_Dollars</td>\n",
       "      <td>234258</td>\n",
       "      <td>float64</td>\n",
       "      <td>3</td>\n",
       "      <td>20</td>\n",
       "      <td>{3.99: 157, 2.99: 75, 3.79: 73, 6.98: 56, 4.99...</td>\n",
       "    </tr>\n",
       "  </tbody>\n",
       "</table>\n",
       "</div>"
      ],
      "text/plain": [
       "                             A_Variable  Levels Datatype  Min Length  \\\n",
       "0                             Geography       9   object          30   \n",
       "1                                  Time      52   object          20   \n",
       "2                   Product Description    1378   object          41   \n",
       "3                          UPC 13 digit    1378    int64           7   \n",
       "4                 Dollar Sales No Merch  225885  float64           3   \n",
       "5                Dollar Sales Any Merch  141711  float64           3   \n",
       "6                   Unit Sales No Merch  210891  float64           3   \n",
       "7                  Unit Sales Any Merch  131698  float64           3   \n",
       "8                 Volume Sales No Merch  216804  float64           3   \n",
       "9                Volume Sales Any Merch  134363  float64           3   \n",
       "10                       Price per Unit  197371  float64           3   \n",
       "11              Price per Unit No Merch  186442  float64           3   \n",
       "12             Price per Unit Any Merch  121624  float64           3   \n",
       "13                     Price per Volume  199565  float64           3   \n",
       "14            Price per Volume No Merch  188635  float64           3   \n",
       "15           Price per Volume Any Merch  124526  float64           3   \n",
       "16   ACV Weighted Distribution No Merch  235533  float64           3   \n",
       "17  ACV Weighted Distribution Any Merch  152148  float64           3   \n",
       "18                      Base Unit Sales  225016  float64           3   \n",
       "19                    Base Volume Sales  229377  float64           3   \n",
       "20                    Base Dollar Sales  234798  float64           3   \n",
       "21                    Incremental Units  127084  float64           3   \n",
       "22                   Incremental Volume  129546  float64           3   \n",
       "23                  Incremental Dollars  130490  float64           3   \n",
       "24                CAG Major Brand Value     304   object           4   \n",
       "25               CAG Manufacturer Value     260   object           5   \n",
       "26                         Sub-Category       6   object           6   \n",
       "27                         CAG Category       1   object          12   \n",
       "28                            CAG Count      10   object           3   \n",
       "29                           CAG Ounces      69   object           4   \n",
       "30                             CAG Form       4   object           4   \n",
       "31                                 Form      21   object           3   \n",
       "32                             CAG Tier       5   object           3   \n",
       "33                  Total_Sales_Dollars  234258  float64           3   \n",
       "\n",
       "    Max Length                                       Level_Values  \n",
       "0           50  {'Total US - Multi Outlet + Conv': 60644, 'Nor...  \n",
       "1           20  {'Week Ending 04-04-21': 5067, 'Week Ending 03...  \n",
       "2          113  {'COUNTRY CROCK RFG ORIGINAL VEGETABLE OIL SPR...  \n",
       "3           13  {27400545081: 468, 742365416001: 468, 40600341...  \n",
       "4           20  {3.99: 159, 3.79: 73, 2.99: 72, 6.99: 55, 6.98...  \n",
       "5           20  {2.84: 36, 2.98: 26, 5.68: 24, 3.0: 23, 8.52: ...  \n",
       "6           20  {1.0: 2242, 2.0: 1020, 3.0: 657, 4.0: 454, 5.0...  \n",
       "7           20  {1.0: 712, 2.0: 701, 3.0: 580, 4.0: 511, 5.0: ...  \n",
       "8           21  {1.0: 847, 2.0: 429, 0.9375: 421, 0.5: 419, 3....  \n",
       "9           21  {1.0: 378, 2.0: 337, 3.0: 280, 4.0: 240, 5.0: ...  \n",
       "10          19  {3.99: 3822, 2.99: 3745, 4.99: 2798, 5.99: 193...  \n",
       "11          19  {3.99: 4234, 2.99: 3862, 4.99: 3077, 5.99: 214...  \n",
       "12          19  {2.99: 2216, 3.99: 1620, 4.99: 946, 3.49: 851,...  \n",
       "13          20  {4.99: 1273, 3.99: 1237, 7.98: 1229, 2.99: 119...  \n",
       "14          20  {4.99: 1375, 7.98: 1344, 3.99: 1339, 5.99: 117...  \n",
       "15          19  {2.99: 998, 3.99: 609, 4.99: 480, 2.5: 403, 5....  \n",
       "16          22  {0.11982502594529354: 35, 0.12177853596474593:...  \n",
       "17          22  {0.4129481358150694: 13, 0.4125175093777117: 1...  \n",
       "18          20  {1.0: 2166, 2.0: 997, 3.0: 604, 4.0: 434, 5.0:...  \n",
       "19          21  {1.0: 826, 0.9375: 424, 2.0: 417, 0.5: 393, 3....  \n",
       "20          20  {3.99: 155, 3.79: 73, 2.99: 72, 4.99: 55, 6.98...  \n",
       "21          20  {0.0: 15696, 0.5: 34, 0.5099999904632568: 31, ...  \n",
       "22          21  {0.0: 15696, 0.009999990463256836: 19, 0.25: 1...  \n",
       "23          23  {0.0: 15687, 1.4547000122070313: 4, 0.99619995...  \n",
       "24          30  {'PRIVATE LABEL': 80570, 'LAND O LAKES': 17686...  \n",
       "25          35  {'PRIVATE LABEL': 80570, 'UPFIELD': 21965, 'CO...  \n",
       "26          30  {'RFG BUTTER': 147717, 'MARGARINE/SPREADS': 87...  \n",
       "27          12                           {'TABLESPREADS': 258978}  \n",
       "28           5  {'1 CT': 160976, '4 CT': 74346, '2 CT': 16980,...  \n",
       "29           8  {'16 OZ': 95457, '8 OZ': 54133, '15 OZ': 27786...  \n",
       "30          14  {'TUBS': 109873, 'STICKS': 95893, 'ALL OTHER F...  \n",
       "31          21  {'SPREAD': 116152, 'STICK': 48348, 'QUARTER': ...  \n",
       "32          13  {'MAINSTREAM': 101161, 'SUPER PREMIUM': 79405,...  \n",
       "33          20  {3.99: 157, 2.99: 75, 3.79: 73, 6.98: 56, 4.99...  "
      ]
     },
     "execution_count": 5,
     "metadata": {},
     "output_type": "execute_result"
    }
   ],
   "source": [
    "describe_more(data)"
   ]
  },
  {
   "cell_type": "code",
   "execution_count": 6,
   "id": "2b75b9a6",
   "metadata": {},
   "outputs": [],
   "source": [
    "data=data.drop(columns=['UPC 13 digit'])"
   ]
  },
  {
   "cell_type": "code",
   "execution_count": 7,
   "id": "d0b21a2e",
   "metadata": {},
   "outputs": [
    {
     "name": "stdout",
     "output_type": "stream",
     "text": [
      "<class 'pandas.core.frame.DataFrame'>\n",
      "RangeIndex: 258978 entries, 0 to 258977\n",
      "Data columns (total 33 columns):\n",
      " #   Column                               Non-Null Count   Dtype  \n",
      "---  ------                               --------------   -----  \n",
      " 0   Geography                            258978 non-null  object \n",
      " 1   Time                                 258978 non-null  object \n",
      " 2   Product Description                  258978 non-null  object \n",
      " 3   Dollar Sales No Merch                250901 non-null  float64\n",
      " 4   Dollar Sales Any Merch               158524 non-null  float64\n",
      " 5   Unit Sales No Merch                  250901 non-null  float64\n",
      " 6   Unit Sales Any Merch                 158524 non-null  float64\n",
      " 7   Volume Sales No Merch                250901 non-null  float64\n",
      " 8   Volume Sales Any Merch               158524 non-null  float64\n",
      " 9   Price per Unit                       258978 non-null  float64\n",
      " 10  Price per Unit No Merch              250901 non-null  float64\n",
      " 11  Price per Unit Any Merch             158524 non-null  float64\n",
      " 12  Price per Volume                     258978 non-null  float64\n",
      " 13  Price per Volume No Merch            250901 non-null  float64\n",
      " 14  Price per Volume Any Merch           158524 non-null  float64\n",
      " 15  ACV Weighted Distribution No Merch   250901 non-null  float64\n",
      " 16  ACV Weighted Distribution Any Merch  158524 non-null  float64\n",
      " 17  Base Unit Sales                      258978 non-null  float64\n",
      " 18  Base Volume Sales                    258978 non-null  float64\n",
      " 19  Base Dollar Sales                    258978 non-null  float64\n",
      " 20  Incremental Units                    158524 non-null  float64\n",
      " 21  Incremental Volume                   158524 non-null  float64\n",
      " 22  Incremental Dollars                  158524 non-null  float64\n",
      " 23  CAG Major Brand Value                258978 non-null  object \n",
      " 24  CAG Manufacturer Value               258978 non-null  object \n",
      " 25  Sub-Category                         258978 non-null  object \n",
      " 26  CAG Category                         258978 non-null  object \n",
      " 27  CAG Count                            258042 non-null  object \n",
      " 28  CAG Ounces                           258978 non-null  object \n",
      " 29  CAG Form                             258978 non-null  object \n",
      " 30  Form                                 257184 non-null  object \n",
      " 31  CAG Tier                             258042 non-null  object \n",
      " 32  Total_Sales_Dollars                  258978 non-null  float64\n",
      "dtypes: float64(21), object(12)\n",
      "memory usage: 65.2+ MB\n"
     ]
    }
   ],
   "source": [
    "data.info()"
   ]
  },
  {
   "cell_type": "code",
   "execution_count": 8,
   "id": "80459607",
   "metadata": {},
   "outputs": [],
   "source": [
    "data['Quarter'] = pd.PeriodIndex(data['Time'].str.replace('Week Ending ', ''), freq='Q').strftime('Q%q')"
   ]
  },
  {
   "cell_type": "code",
   "execution_count": 9,
   "id": "a8d5c6f5",
   "metadata": {},
   "outputs": [],
   "source": [
    "# The Data Cleaning\n",
    "data.columns = data.columns.str.replace(' ', '_')\n",
    "data.columns = data.columns.str.lower()"
   ]
  },
  {
   "cell_type": "code",
   "execution_count": 10,
   "id": "f4a1f6bf",
   "metadata": {},
   "outputs": [
    {
     "name": "stdout",
     "output_type": "stream",
     "text": [
      "<class 'pandas.core.frame.DataFrame'>\n",
      "RangeIndex: 258978 entries, 0 to 258977\n",
      "Data columns (total 34 columns):\n",
      " #   Column                               Non-Null Count   Dtype  \n",
      "---  ------                               --------------   -----  \n",
      " 0   geography                            258978 non-null  object \n",
      " 1   time                                 258978 non-null  object \n",
      " 2   product_description                  258978 non-null  object \n",
      " 3   dollar_sales_no_merch                250901 non-null  float64\n",
      " 4   dollar_sales_any_merch               158524 non-null  float64\n",
      " 5   unit_sales_no_merch                  250901 non-null  float64\n",
      " 6   unit_sales_any_merch                 158524 non-null  float64\n",
      " 7   volume_sales_no_merch                250901 non-null  float64\n",
      " 8   volume_sales_any_merch               158524 non-null  float64\n",
      " 9   price_per_unit                       258978 non-null  float64\n",
      " 10  price_per_unit_no_merch              250901 non-null  float64\n",
      " 11  price_per_unit_any_merch             158524 non-null  float64\n",
      " 12  price_per_volume                     258978 non-null  float64\n",
      " 13  price_per_volume_no_merch            250901 non-null  float64\n",
      " 14  price_per_volume_any_merch           158524 non-null  float64\n",
      " 15  acv_weighted_distribution_no_merch   250901 non-null  float64\n",
      " 16  acv_weighted_distribution_any_merch  158524 non-null  float64\n",
      " 17  base_unit_sales                      258978 non-null  float64\n",
      " 18  base_volume_sales                    258978 non-null  float64\n",
      " 19  base_dollar_sales                    258978 non-null  float64\n",
      " 20  incremental_units                    158524 non-null  float64\n",
      " 21  incremental_volume                   158524 non-null  float64\n",
      " 22  incremental_dollars                  158524 non-null  float64\n",
      " 23  cag_major_brand_value                258978 non-null  object \n",
      " 24  cag_manufacturer_value               258978 non-null  object \n",
      " 25  sub-category                         258978 non-null  object \n",
      " 26  cag_category                         258978 non-null  object \n",
      " 27  cag_count                            258042 non-null  object \n",
      " 28  cag_ounces                           258978 non-null  object \n",
      " 29  cag_form                             258978 non-null  object \n",
      " 30  form                                 257184 non-null  object \n",
      " 31  cag_tier                             258042 non-null  object \n",
      " 32  total_sales_dollars                  258978 non-null  float64\n",
      " 33  quarter                              258978 non-null  object \n",
      "dtypes: float64(21), object(13)\n",
      "memory usage: 67.2+ MB\n"
     ]
    }
   ],
   "source": [
    "data.info()"
   ]
  },
  {
   "cell_type": "code",
   "execution_count": 11,
   "id": "53611bd1",
   "metadata": {},
   "outputs": [],
   "source": [
    "# Data where dimension of time is reduced to quarters and considering total sales as our target variable\n",
    "data_quarter=data.drop(columns=['time','form','cag_category','product_description'])"
   ]
  },
  {
   "cell_type": "code",
   "execution_count": 12,
   "id": "b37202f1",
   "metadata": {},
   "outputs": [
    {
     "name": "stdout",
     "output_type": "stream",
     "text": [
      "<class 'pandas.core.frame.DataFrame'>\n",
      "RangeIndex: 258978 entries, 0 to 258977\n",
      "Data columns (total 30 columns):\n",
      " #   Column                               Non-Null Count   Dtype  \n",
      "---  ------                               --------------   -----  \n",
      " 0   geography                            258978 non-null  object \n",
      " 1   dollar_sales_no_merch                250901 non-null  float64\n",
      " 2   dollar_sales_any_merch               158524 non-null  float64\n",
      " 3   unit_sales_no_merch                  250901 non-null  float64\n",
      " 4   unit_sales_any_merch                 158524 non-null  float64\n",
      " 5   volume_sales_no_merch                250901 non-null  float64\n",
      " 6   volume_sales_any_merch               158524 non-null  float64\n",
      " 7   price_per_unit                       258978 non-null  float64\n",
      " 8   price_per_unit_no_merch              250901 non-null  float64\n",
      " 9   price_per_unit_any_merch             158524 non-null  float64\n",
      " 10  price_per_volume                     258978 non-null  float64\n",
      " 11  price_per_volume_no_merch            250901 non-null  float64\n",
      " 12  price_per_volume_any_merch           158524 non-null  float64\n",
      " 13  acv_weighted_distribution_no_merch   250901 non-null  float64\n",
      " 14  acv_weighted_distribution_any_merch  158524 non-null  float64\n",
      " 15  base_unit_sales                      258978 non-null  float64\n",
      " 16  base_volume_sales                    258978 non-null  float64\n",
      " 17  base_dollar_sales                    258978 non-null  float64\n",
      " 18  incremental_units                    158524 non-null  float64\n",
      " 19  incremental_volume                   158524 non-null  float64\n",
      " 20  incremental_dollars                  158524 non-null  float64\n",
      " 21  cag_major_brand_value                258978 non-null  object \n",
      " 22  cag_manufacturer_value               258978 non-null  object \n",
      " 23  sub-category                         258978 non-null  object \n",
      " 24  cag_count                            258042 non-null  object \n",
      " 25  cag_ounces                           258978 non-null  object \n",
      " 26  cag_form                             258978 non-null  object \n",
      " 27  cag_tier                             258042 non-null  object \n",
      " 28  total_sales_dollars                  258978 non-null  float64\n",
      " 29  quarter                              258978 non-null  object \n",
      "dtypes: float64(21), object(9)\n",
      "memory usage: 59.3+ MB\n"
     ]
    }
   ],
   "source": [
    "cat_var=[]\n",
    "data_quarter.shape\n",
    "data_quarter.info()"
   ]
  },
  {
   "cell_type": "code",
   "execution_count": 13,
   "id": "085843f2",
   "metadata": {},
   "outputs": [],
   "source": [
    "cat_var=[var for var in data_quarter.columns if data_quarter[var].dtype=='object']"
   ]
  },
  {
   "cell_type": "code",
   "execution_count": 14,
   "id": "7c817e9b",
   "metadata": {},
   "outputs": [
    {
     "data": {
      "text/plain": [
       "['geography',\n",
       " 'cag_major_brand_value',\n",
       " 'cag_manufacturer_value',\n",
       " 'sub-category',\n",
       " 'cag_count',\n",
       " 'cag_ounces',\n",
       " 'cag_form',\n",
       " 'cag_tier',\n",
       " 'quarter']"
      ]
     },
     "execution_count": 14,
     "metadata": {},
     "output_type": "execute_result"
    }
   ],
   "source": [
    "cat_var"
   ]
  },
  {
   "cell_type": "code",
   "execution_count": 20,
   "id": "e8056b2c",
   "metadata": {},
   "outputs": [
    {
     "data": {
      "text/plain": [
       "geography                              0\n",
       "dollar_sales_no_merch                  0\n",
       "dollar_sales_any_merch                 0\n",
       "unit_sales_no_merch                    0\n",
       "unit_sales_any_merch                   0\n",
       "volume_sales_no_merch                  0\n",
       "volume_sales_any_merch                 0\n",
       "price_per_unit                         0\n",
       "price_per_unit_no_merch                0\n",
       "price_per_unit_any_merch               0\n",
       "price_per_volume                       0\n",
       "price_per_volume_no_merch              0\n",
       "price_per_volume_any_merch             0\n",
       "acv_weighted_distribution_no_merch     0\n",
       "acv_weighted_distribution_any_merch    0\n",
       "base_unit_sales                        0\n",
       "base_volume_sales                      0\n",
       "base_dollar_sales                      0\n",
       "incremental_units                      0\n",
       "incremental_volume                     0\n",
       "incremental_dollars                    0\n",
       "cag_major_brand_value                  0\n",
       "cag_manufacturer_value                 0\n",
       "sub-category                           0\n",
       "cag_count                              0\n",
       "cag_ounces                             0\n",
       "cag_form                               0\n",
       "cag_tier                               0\n",
       "total_sales_dollars                    0\n",
       "quarter                                0\n",
       "dtype: int64"
      ]
     },
     "execution_count": 20,
     "metadata": {},
     "output_type": "execute_result"
    }
   ],
   "source": [
    "# check for null values\n",
    "data_quarter.isnull().sum()"
   ]
  },
  {
   "cell_type": "code",
   "execution_count": 17,
   "id": "094cfa4a",
   "metadata": {},
   "outputs": [
    {
     "data": {
      "text/plain": [
       "['dollar_sales_no_merch',\n",
       " 'dollar_sales_any_merch',\n",
       " 'unit_sales_no_merch',\n",
       " 'unit_sales_any_merch',\n",
       " 'volume_sales_no_merch',\n",
       " 'volume_sales_any_merch',\n",
       " 'price_per_unit',\n",
       " 'price_per_unit_no_merch',\n",
       " 'price_per_unit_any_merch',\n",
       " 'price_per_volume',\n",
       " 'price_per_volume_no_merch',\n",
       " 'price_per_volume_any_merch',\n",
       " 'acv_weighted_distribution_no_merch',\n",
       " 'acv_weighted_distribution_any_merch',\n",
       " 'base_unit_sales',\n",
       " 'base_volume_sales',\n",
       " 'base_dollar_sales',\n",
       " 'incremental_units',\n",
       " 'incremental_volume',\n",
       " 'incremental_dollars',\n",
       " 'total_sales_dollars']"
      ]
     },
     "execution_count": 17,
     "metadata": {},
     "output_type": "execute_result"
    }
   ],
   "source": [
    "num_var=[var for var in data_quarter.columns if data_quarter[var].dtype!='object']\n",
    "num_var"
   ]
  },
  {
   "cell_type": "code",
   "execution_count": 18,
   "id": "d8aaad15",
   "metadata": {},
   "outputs": [],
   "source": [
    "# Added 0 in null values for numerical variables and missing in categorical variables\n",
    "values_to_fill = {}\n",
    "for col in data_quarter.columns:\n",
    "    if data_quarter[col].dtype != 'object':\n",
    "        values_to_fill[col] = 0\n",
    "\n",
    "data_quarter.fillna(value=values_to_fill,inplace=True)"
   ]
  },
  {
   "cell_type": "code",
   "execution_count": 19,
   "id": "3e5a71ec",
   "metadata": {},
   "outputs": [],
   "source": [
    "data_quarter=data_quarter.dropna(subset=['cag_count'])\n",
    "corr_mat = data_quarter.corr(method='pearson').round(2)"
   ]
  },
  {
   "cell_type": "code",
   "execution_count": null,
   "id": "2db5e588",
   "metadata": {},
   "outputs": [],
   "source": [
    "corr_mat\n",
    "import seaborn as sns"
   ]
  },
  {
   "cell_type": "code",
   "execution_count": null,
   "id": "8988e922",
   "metadata": {},
   "outputs": [],
   "source": [
    "plt.figure(figsize=(20,10))\n",
    "plot=sns.heatmap(corr_mat,annot=True)"
   ]
  },
  {
   "cell_type": "code",
   "execution_count": null,
   "id": "f3fb1d15",
   "metadata": {},
   "outputs": [],
   "source": [
    "from scipy.stats import chi2_contingency\n",
    "for var in cat_var :\n",
    "    contingency_table = pd.crosstab(data_quarter[var], data_quarter['total_sales_dollars'])\n",
    "\n",
    "    # Perform the chi-square test\n",
    "    chi2, p_value, dof, expected = chi2_contingency(contingency_table)\n",
    "\n",
    "    # Print the results\n",
    "    print(f\"{var}:\")\n",
    "    print(f\"Chi-square statistic: {chi2}\")\n",
    "    print(f\"P-value: {p_value}\")"
   ]
  },
  {
   "cell_type": "code",
   "execution_count": 22,
   "id": "0b80e37d",
   "metadata": {},
   "outputs": [],
   "source": [
    "data_quarter=data_quarter.drop(columns=['total_sales_dollars'])"
   ]
  },
  {
   "cell_type": "code",
   "execution_count": null,
   "id": "4da8fd1d",
   "metadata": {},
   "outputs": [],
   "source": [
    "data_quarter.columns"
   ]
  },
  {
   "cell_type": "code",
   "execution_count": 21,
   "id": "f35d7b92",
   "metadata": {},
   "outputs": [
    {
     "data": {
      "text/plain": [
       "8374981555.886614"
      ]
     },
     "execution_count": 21,
     "metadata": {},
     "output_type": "execute_result"
    }
   ],
   "source": [
    "data_quarter['total_sales_dollars'].sum()"
   ]
  },
  {
   "cell_type": "code",
   "execution_count": null,
   "id": "9cc63b59",
   "metadata": {},
   "outputs": [],
   "source": [
    "grouped_df = data_quarter.groupby('cag_major_brand_value')['total_sales_dollars'].sum().reset_index()\n",
    "grouped_df = grouped_df.rename(columns={'total_sales_dollars': 'sumsales'})"
   ]
  },
  {
   "cell_type": "code",
   "execution_count": null,
   "id": "4fe4aac0",
   "metadata": {},
   "outputs": [],
   "source": [
    "grouped_df = grouped_df.sort_values('sumsales', ascending=False)"
   ]
  },
  {
   "cell_type": "code",
   "execution_count": null,
   "id": "bf63b1bd",
   "metadata": {},
   "outputs": [],
   "source": [
    "grouped_df['market_share'] = grouped_df['sumsales'] * 100 / 8374981556"
   ]
  },
  {
   "cell_type": "code",
   "execution_count": null,
   "id": "61a7163d",
   "metadata": {},
   "outputs": [],
   "source": [
    "data_quarter = pd.merge(data_quarter1, grouped_df, on='cag_major_brand_value', how='left')"
   ]
  },
  {
   "cell_type": "code",
   "execution_count": 24,
   "id": "29266821",
   "metadata": {},
   "outputs": [],
   "source": [
    "# create dummy variables for the categorical variables.\n",
    "data_quarter.to_csv('final2021.csv')"
   ]
  },
  {
   "cell_type": "code",
   "execution_count": null,
   "id": "899e6d94",
   "metadata": {},
   "outputs": [],
   "source": [
    "dum_col=[]\n",
    "for c in ['Geography','Sub-Category','CAG Count','CAG Ounces','CAG Form','CAG Tier','Quarter']:\n",
    "    dummies = pd.get_dummies(data_quarter1[c], prefix=c)\n",
    "    dum_col.append(dummies.columns.tolist())\n",
    "# add the dummy variables to the original dataframe\n",
    "    data_quarter1 = pd.concat([data_quarter1, dummies], axis=1)"
   ]
  },
  {
   "cell_type": "code",
   "execution_count": 23,
   "id": "9721ad30",
   "metadata": {},
   "outputs": [
    {
     "ename": "NameError",
     "evalue": "name 'data_quarter1' is not defined",
     "output_type": "error",
     "traceback": [
      "\u001b[1;31m---------------------------------------------------------------------------\u001b[0m",
      "\u001b[1;31mNameError\u001b[0m                                 Traceback (most recent call last)",
      "\u001b[1;32m~\\AppData\\Local\\Temp\\ipykernel_12596\\3273674757.py\u001b[0m in \u001b[0;36m<module>\u001b[1;34m\u001b[0m\n\u001b[1;32m----> 1\u001b[1;33m \u001b[0mdata_quarter1\u001b[0m\u001b[1;33m.\u001b[0m\u001b[0mto_csv\u001b[0m\u001b[1;33m(\u001b[0m\u001b[1;34m'file2021.csv'\u001b[0m\u001b[1;33m)\u001b[0m\u001b[1;33m\u001b[0m\u001b[1;33m\u001b[0m\u001b[0m\n\u001b[0m",
      "\u001b[1;31mNameError\u001b[0m: name 'data_quarter1' is not defined"
     ]
    }
   ],
   "source": [
    "data_quarter.to_csv('file2021.csv')"
   ]
  },
  {
   "cell_type": "code",
   "execution_count": null,
   "id": "43c55506",
   "metadata": {},
   "outputs": [],
   "source": [
    "data_quarter1 = data_quarter1[['Geography','Sub-Category','CAG Count','CAG Ounces','CAG Form','CAG Tier','Quarter']].apply(lambda x: pd.factorize(x)[0])"
   ]
  },
  {
   "cell_type": "code",
   "execution_count": null,
   "id": "c02767ef",
   "metadata": {},
   "outputs": [],
   "source": [
    "from sklearn.preprocessing import LabelEncoder\n",
    "# Convert categorical variables to integers using label encoding\n",
    "le = LabelEncoder()\n",
    "label_mappings = {}\n",
    "\n",
    "for col in ['Geography','Sub-Category','CAG Count','CAG Ounces','CAG Form','CAG Tier','Quarter']:\n",
    "    data_quarter1[col] = le.fit_transform(data[col])\n",
    "    label_mappings[col] = {}\n",
    "    for i, value in enumerate(le.classes_):\n",
    "        if value in label_mappings[col]:\n",
    "            label_mappings[col][value].append(i)\n",
    "        else:\n",
    "            label_mappings[col][value] = [i]\n",
    "\n",
    "# Print label mappings for each categorical variable\n",
    "for col in categorical_cols:\n",
    "    print(f\"Label mapping for {col}:\")\n",
    "    print(label_mappings[col])"
   ]
  },
  {
   "cell_type": "code",
   "execution_count": null,
   "id": "e21c4bcc",
   "metadata": {},
   "outputs": [],
   "source": [
    "X = data_quarter1[['Geography','Sub-Category','CAG Count','CAG Ounces','CAG Form','CAG Tier','Quarter']]"
   ]
  },
  {
   "cell_type": "code",
   "execution_count": null,
   "id": "9b1a33a0",
   "metadata": {},
   "outputs": [],
   "source": [
    "'''\n",
    "Are there interactions across productattributes withinthe Tablespreads category that pose any risks and/or opportunity? \n",
    "Recommendation is to cluster items by product attributes including, but not limited toform, flavor, \n",
    "type,price tier, pack count, etc\n",
    "'''"
   ]
  },
  {
   "cell_type": "code",
   "execution_count": null,
   "id": "8c82d38a",
   "metadata": {},
   "outputs": [],
   "source": [
    "data=pd.read_excel(\"file2021_1.xlsx\")"
   ]
  },
  {
   "cell_type": "code",
   "execution_count": null,
   "id": "54f876f5",
   "metadata": {},
   "outputs": [],
   "source": [
    "from sklearn.preprocessing import MinMaxScaler, StandardScaler\n",
    "scaler = MinMaxScaler()\n",
    "data['Total_Sales_Dollars'] = scaler.fit_transform(data['Total_Sales_Dollars'].values.reshape(-1,1))"
   ]
  },
  {
   "cell_type": "code",
   "execution_count": null,
   "id": "e341f6a5",
   "metadata": {},
   "outputs": [],
   "source": [
    "category_map = {'MARGARINE/SPREADS': 'MARGARINE', 'RFG BUTTER': 'BUTTER', 'RFG BUTTER BLENDS': 'Others', 'RFG SAUCE/GRAVY/MARINADE MIXES': 'Others'}\n",
    "data['Sub_Category'] = data['Sub_Category'].map(category_map)"
   ]
  },
  {
   "cell_type": "code",
   "execution_count": null,
   "id": "1b1d8a97",
   "metadata": {},
   "outputs": [],
   "source": [
    "# perform a 2 way ANOVA between the product attributes\n",
    "import pandas as pd\n",
    "import statsmodels.api as sm\n",
    "from statsmodels.formula.api import ols\n",
    "\n",
    "\n",
    "# Define the formula for the two-way ANOVA\n",
    "formula = 'Total_Sales_Dollars ~ Sub_Category + CAG_Form + Sub_Category:CAG_Form'\n",
    "\n",
    "# Fit the ANOVA model\n",
    "model = ols(formula, data=data).fit()\n",
    "\n",
    "# Perform the ANOVA analysis\n",
    "anova_table = sm.stats.anova_lm(model, typ=2)\n",
    "\n",
    "model.summary()"
   ]
  },
  {
   "cell_type": "code",
   "execution_count": null,
   "id": "3b2e1f26",
   "metadata": {},
   "outputs": [],
   "source": [
    "# There is an interaction between the Sub-Category and the FORM in which the products are sold."
   ]
  },
  {
   "cell_type": "code",
   "execution_count": null,
   "id": "e526258a",
   "metadata": {},
   "outputs": [],
   "source": [
    "# perform a 2 way ANOVA between the product attributes\n",
    "\n",
    "formula1 = 'Total_Sales_Dollars ~ Sub_Category + CAG_Count + Sub_Category:CAG_Count'\n",
    "\n",
    "# Fit the ANOVA model\n",
    "model1 = ols(formula1, data=data).fit()\n",
    "\n",
    "model1.summary()"
   ]
  },
  {
   "cell_type": "code",
   "execution_count": null,
   "id": "6992ce04",
   "metadata": {},
   "outputs": [],
   "source": [
    "formula2 = 'Total_Sales_Dollars ~ CAG_Form + CAG_Count + CAG_Form:CAG_Count'\n",
    "\n",
    "# Fit the ANOVA model\n",
    "model2 = ols(formula2, data=data).fit()\n",
    "model2.summary()"
   ]
  },
  {
   "cell_type": "code",
   "execution_count": null,
   "id": "c6a37b9f",
   "metadata": {},
   "outputs": [],
   "source": [
    "formula3 = 'Total_Sales_Dollars ~ Sub_Category + CAG_Ounces + Sub_Category:CAG_Ounces'\n",
    "\n",
    "# Fit the ANOVA model\n",
    "model3 = ols(formula3, data=data).fit()\n",
    "model3.summary()"
   ]
  },
  {
   "cell_type": "code",
   "execution_count": null,
   "id": "3cd2a0f7",
   "metadata": {},
   "outputs": [],
   "source": [
    "formula4 = 'Total_Sales_Dollars ~ Geography + CAG_Ounces + Geography:CAG_Ounces'\n",
    "# Fit the ANOVA model\n",
    "model4 = ols(formula4, data=data).fit()\n",
    "model4.summary()"
   ]
  },
  {
   "cell_type": "code",
   "execution_count": null,
   "id": "07f96f23",
   "metadata": {},
   "outputs": [],
   "source": [
    "''' We observe that there is a collinearity between the Geography and the wieght of the tablespreads sold'''"
   ]
  },
  {
   "cell_type": "code",
   "execution_count": null,
   "id": "580adf7d",
   "metadata": {},
   "outputs": [],
   "source": [
    "formula5 = 'Total_Sales_Dollars ~ Geography + Sub_Category + Geography:Sub_Category'\n",
    "# Fit the ANOVA model\n",
    "model5 = ols(formula5, data=data).fit()\n",
    "model5.summary()"
   ]
  },
  {
   "cell_type": "code",
   "execution_count": null,
   "id": "f665d693",
   "metadata": {},
   "outputs": [],
   "source": [
    "# Change the ounze to numerical\n"
   ]
  }
 ],
 "metadata": {
  "kernelspec": {
   "display_name": "Python 3 (ipykernel)",
   "language": "python",
   "name": "python3"
  },
  "language_info": {
   "codemirror_mode": {
    "name": "ipython",
    "version": 3
   },
   "file_extension": ".py",
   "mimetype": "text/x-python",
   "name": "python",
   "nbconvert_exporter": "python",
   "pygments_lexer": "ipython3",
   "version": "3.10.9"
  }
 },
 "nbformat": 4,
 "nbformat_minor": 5
}
